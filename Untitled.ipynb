{
 "cells": [
  {
   "cell_type": "code",
   "execution_count": 22,
   "id": "b9d7da7c",
   "metadata": {},
   "outputs": [],
   "source": [
    "import os\n",
    "import numpy as np\n",
    "import pandas as pd\n",
    "import tensorflow as tf\n",
    "import matplotlib.pyplot as plt\n",
    "from matplotlib import rc\n"
   ]
  },
  {
   "cell_type": "code",
   "execution_count": 74,
   "id": "ba2b751f",
   "metadata": {},
   "outputs": [],
   "source": [
    "def set_date(rawframe):\n",
    "    rawframe['set_date'] = pd.to_datetime(rawframe[rawframe.columns[0]])\n",
    "    rawframe = rawframe.drop(rawframe.columns[0], axis=1)\n",
    "    return rawframe\n",
    "\n",
    "# DataFrame merge\n",
    "def set_merge(tb1, tb2):\n",
    "    raw_return = pd.merge(tb1, tb2, how='outer', on='set_date')\n",
    "    return raw_return\n",
    "\n"
   ]
  },
  {
   "cell_type": "code",
   "execution_count": 75,
   "id": "8897a170",
   "metadata": {},
   "outputs": [
    {
     "name": "stdout",
     "output_type": "stream",
     "text": [
      "Modulation 1 : 데이터 수집\n"
     ]
    }
   ],
   "source": [
    "###################################\n",
    "print(\"Modulation 1 : 데이터 수집\")\n",
    "###################################\n",
    "\n",
    "raw_mn = pd.read_csv('./data/Mn_Mn.csv', sep=',', encoding='CP949')\n",
    "raw_mn  = set_date(raw_mn)\n",
    "\n",
    "raw_weather = pd.read_csv('./data/Mn_weather.csv', sep=',', encoding='CP949')\n",
    "raw_weather  = set_date(raw_weather)\n",
    "\n",
    "raw_prec = pd.read_csv('./data/Mn_preci.csv', sep=',', encoding='CP949')\n",
    "raw_prec  = set_date(raw_prec)\n",
    "\n",
    "\n",
    "\n",
    "\n"
   ]
  },
  {
   "cell_type": "code",
   "execution_count": 76,
   "id": "3e164237",
   "metadata": {},
   "outputs": [],
   "source": [
    "raw_total = set_merge(raw_mn, raw_weather)\n",
    "raw_total = set_merge(raw_total, raw_prec)"
   ]
  },
  {
   "cell_type": "code",
   "execution_count": 83,
   "id": "0ad17d22",
   "metadata": {
    "scrolled": true
   },
   "outputs": [
    {
     "data": {
      "image/png": "[encoded data removed]",
      "text/plain": [
       "<Figure size 432x288 with 1 Axes>"
      ]
     },
     "metadata": {
      "needs_background": "light"
     },
     "output_type": "display_data"
    }
   ],
   "source": [
    "raw_total.head()\n",
    "\n",
    "plt.plot(raw_total[raw_total.columns[1]], raw_total[raw_total.columns[0]])\n",
    "plt.show()"
   ]
  },
  {
   "cell_type": "code",
   "execution_count": 92,
   "id": "547bec78",
   "metadata": {},
   "outputs": [],
   "source": [
    "raw_quality = pd.read_csv('./data/Mn_quality.csv', sep=',', encoding='CP949')\n",
    "raw_quality  = set_date(raw_quality)"
   ]
  },
  {
   "cell_type": "code",
   "execution_count": 109,
   "id": "386a8ea9",
   "metadata": {},
   "outputs": [
    {
     "data": {
      "text/html": [
       "<div>\n",
       "<style scoped>\n",
       "    .dataframe tbody tr th:only-of-type {\n",
       "        vertical-align: middle;\n",
       "    }\n",
       "\n",
       "    .dataframe tbody tr th {\n",
       "        vertical-align: top;\n",
       "    }\n",
       "\n",
       "    .dataframe thead th {\n",
       "        text-align: right;\n",
       "    }\n",
       "</style>\n",
       "<table border=\"1\" class=\"dataframe\">\n",
       "  <thead>\n",
       "    <tr style=\"text-align: right;\">\n",
       "      <th></th>\n",
       "      <th></th>\n",
       "      <th>탁도</th>\n",
       "      <th>저수위</th>\n",
       "      <th>pH</th>\n",
       "      <th>수온</th>\n",
       "      <th>전기전도도</th>\n",
       "      <th>DO</th>\n",
       "      <th>Chl-a</th>\n",
       "    </tr>\n",
       "    <tr>\n",
       "      <th>set_date</th>\n",
       "      <th>수심</th>\n",
       "      <th></th>\n",
       "      <th></th>\n",
       "      <th></th>\n",
       "      <th></th>\n",
       "      <th></th>\n",
       "      <th></th>\n",
       "      <th></th>\n",
       "    </tr>\n",
       "  </thead>\n",
       "  <tbody>\n",
       "    <tr>\n",
       "      <th rowspan=\"5\" valign=\"top\">2010-03-04</th>\n",
       "      <th>1</th>\n",
       "      <td>0.0</td>\n",
       "      <td>98.02</td>\n",
       "      <td>7.5</td>\n",
       "      <td>6.844444</td>\n",
       "      <td>72.0</td>\n",
       "      <td>13.2</td>\n",
       "      <td>2.444444</td>\n",
       "    </tr>\n",
       "    <tr>\n",
       "      <th>2</th>\n",
       "      <td>0.0</td>\n",
       "      <td>98.02</td>\n",
       "      <td>7.5</td>\n",
       "      <td>6.744444</td>\n",
       "      <td>72.0</td>\n",
       "      <td>13.2</td>\n",
       "      <td>2.311111</td>\n",
       "    </tr>\n",
       "    <tr>\n",
       "      <th>3</th>\n",
       "      <td>0.0</td>\n",
       "      <td>98.02</td>\n",
       "      <td>7.5</td>\n",
       "      <td>6.644444</td>\n",
       "      <td>72.0</td>\n",
       "      <td>13.2</td>\n",
       "      <td>2.311111</td>\n",
       "    </tr>\n",
       "    <tr>\n",
       "      <th>4</th>\n",
       "      <td>0.0</td>\n",
       "      <td>98.02</td>\n",
       "      <td>7.5</td>\n",
       "      <td>6.555556</td>\n",
       "      <td>72.0</td>\n",
       "      <td>13.2</td>\n",
       "      <td>2.455556</td>\n",
       "    </tr>\n",
       "    <tr>\n",
       "      <th>5</th>\n",
       "      <td>0.0</td>\n",
       "      <td>98.02</td>\n",
       "      <td>7.5</td>\n",
       "      <td>6.255556</td>\n",
       "      <td>73.0</td>\n",
       "      <td>13.2</td>\n",
       "      <td>1.866667</td>\n",
       "    </tr>\n",
       "    <tr>\n",
       "      <th>...</th>\n",
       "      <th>...</th>\n",
       "      <td>...</td>\n",
       "      <td>...</td>\n",
       "      <td>...</td>\n",
       "      <td>...</td>\n",
       "      <td>...</td>\n",
       "      <td>...</td>\n",
       "      <td>...</td>\n",
       "    </tr>\n",
       "    <tr>\n",
       "      <th rowspan=\"5\" valign=\"top\">2011-07-01</th>\n",
       "      <th>29</th>\n",
       "      <td>3.0</td>\n",
       "      <td>98.15</td>\n",
       "      <td>7.1</td>\n",
       "      <td>6.500000</td>\n",
       "      <td>66.0</td>\n",
       "      <td>9.0</td>\n",
       "      <td>0.000000</td>\n",
       "    </tr>\n",
       "    <tr>\n",
       "      <th>30</th>\n",
       "      <td>2.0</td>\n",
       "      <td>98.15</td>\n",
       "      <td>7.1</td>\n",
       "      <td>6.500000</td>\n",
       "      <td>66.0</td>\n",
       "      <td>8.9</td>\n",
       "      <td>0.700000</td>\n",
       "    </tr>\n",
       "    <tr>\n",
       "      <th>31</th>\n",
       "      <td>3.2</td>\n",
       "      <td>98.15</td>\n",
       "      <td>7.1</td>\n",
       "      <td>6.400000</td>\n",
       "      <td>67.0</td>\n",
       "      <td>8.7</td>\n",
       "      <td>0.800000</td>\n",
       "    </tr>\n",
       "    <tr>\n",
       "      <th>32</th>\n",
       "      <td>3.7</td>\n",
       "      <td>98.15</td>\n",
       "      <td>7.1</td>\n",
       "      <td>6.400000</td>\n",
       "      <td>67.0</td>\n",
       "      <td>8.5</td>\n",
       "      <td>0.800000</td>\n",
       "    </tr>\n",
       "    <tr>\n",
       "      <th>33</th>\n",
       "      <td>5.5</td>\n",
       "      <td>98.15</td>\n",
       "      <td>7.1</td>\n",
       "      <td>6.400000</td>\n",
       "      <td>68.0</td>\n",
       "      <td>8.2</td>\n",
       "      <td>0.000000</td>\n",
       "    </tr>\n",
       "  </tbody>\n",
       "</table>\n",
       "<p>12762 rows × 7 columns</p>\n",
       "</div>"
      ],
      "text/plain": [
       "                탁도    저수위   pH        수온  전기전도도    DO     Chl-a\n",
       "set_date   수심                                                  \n",
       "2010-03-04 1   0.0  98.02  7.5  6.844444   72.0  13.2  2.444444\n",
       "           2   0.0  98.02  7.5  6.744444   72.0  13.2  2.311111\n",
       "           3   0.0  98.02  7.5  6.644444   72.0  13.2  2.311111\n",
       "           4   0.0  98.02  7.5  6.555556   72.0  13.2  2.455556\n",
       "           5   0.0  98.02  7.5  6.255556   73.0  13.2  1.866667\n",
       "...            ...    ...  ...       ...    ...   ...       ...\n",
       "2011-07-01 29  3.0  98.15  7.1  6.500000   66.0   9.0  0.000000\n",
       "           30  2.0  98.15  7.1  6.500000   66.0   8.9  0.700000\n",
       "           31  3.2  98.15  7.1  6.400000   67.0   8.7  0.800000\n",
       "           32  3.7  98.15  7.1  6.400000   67.0   8.5  0.800000\n",
       "           33  5.5  98.15  7.1  6.400000   68.0   8.2  0.000000\n",
       "\n",
       "[12762 rows x 7 columns]"
      ]
     },
     "execution_count": 109,
     "metadata": {},
     "output_type": "execute_result"
    }
   ],
   "source": [
    "raw_qq = pd.DataFrame(raw_quality)\n",
    "raw_qq.groupby(['set_date', '수심']).mean()\n"
   ]
  },
  {
   "cell_type": "code",
   "execution_count": null,
   "id": "5c91428a",
   "metadata": {},
   "outputs": [],
   "source": []
  }
 ],
 "metadata": {
  "kernelspec": {
   "display_name": "python_p37",
   "language": "python",
   "name": "note3.7"
  },
  "language_info": {
   "codemirror_mode": {
    "name": "ipython",
    "version": 3
   },
   "file_extension": ".py",
   "mimetype": "text/x-python",
   "name": "python",
   "nbconvert_exporter": "python",
   "pygments_lexer": "ipython3",
   "version": "3.7.11"
  }
 },
 "nbformat": 4,
 "nbformat_minor": 5
}
